{
 "cells": [
  {
   "cell_type": "markdown",
   "metadata": {},
   "source": [
    "# JSON Write Resto Mockups"
   ]
  },
  {
   "cell_type": "code",
   "execution_count": 1,
   "metadata": {},
   "outputs": [],
   "source": [
    "import json"
   ]
  },
  {
   "cell_type": "markdown",
   "metadata": {},
   "source": [
    "### Users"
   ]
  },
  {
   "cell_type": "code",
   "execution_count": 2,
   "metadata": {},
   "outputs": [],
   "source": [
    "data = {}\n",
    "data['users'] = []\n",
    "data['organizations'] = []\n",
    "\n",
    "data['users'].append({\n",
    "    'ID': 1,\n",
    "    'Email': 'admin@gmail.com',\n",
    "    'Name': 'Admin',\n",
    "    'Surame': 'Resto',\n",
    "    'Password': 'admin',\n",
    "    'Phone_number': '1234567890'\n",
    "})\n",
    "\n",
    "with open('mock.json', 'w') as outfile:\n",
    "    json.dump(data, outfile, indent=4)"
   ]
  },
  {
   "cell_type": "markdown",
   "metadata": {},
   "source": [
    "### Write data to JSON file function"
   ]
  },
  {
   "cell_type": "code",
   "execution_count": 14,
   "metadata": {},
   "outputs": [],
   "source": [
    "def write_json(data, filename):\n",
    "    with open(filename+\".json\", 'w') as outfile:\n",
    "        json.dump(data, outfile, indent=4)"
   ]
  },
  {
   "cell_type": "markdown",
   "metadata": {},
   "source": [
    "### DB Connection config"
   ]
  },
  {
   "cell_type": "code",
   "execution_count": 4,
   "metadata": {},
   "outputs": [],
   "source": [
    "config = {\n",
    "  'user': 'onlineord',\n",
    "  'password': 'Bd4tO--2FL7V',\n",
    "  'host': 'den1.mysql4.gear.host',\n",
    "  'database': 'onlineord',\n",
    "  'raise_on_warnings': True\n",
    "}"
   ]
  },
  {
   "cell_type": "markdown",
   "metadata": {},
   "source": [
    "### Database table to JSON"
   ]
  },
  {
   "cell_type": "code",
   "execution_count": 25,
   "metadata": {},
   "outputs": [],
   "source": [
    "from mysql.connector import (connection)\n",
    "\n",
    "cnx = connection.MySQLConnection(**config)\n",
    "cursor = cnx.cursor()\n",
    "\n",
    "cursor.execute(\"SELECT * FROM users\")\n",
    "\n",
    "data = {}\n",
    "data['users'] = []\n",
    "\n",
    "for row in cursor:\n",
    "    data['users'].append({\n",
    "        'ID': row[0],\n",
    "        'Email': row[1],\n",
    "        'Name': row[2],\n",
    "        'Surame': row[3],\n",
    "        'Password': row[4],\n",
    "        'Phone_number': row[5]})\n",
    "    \n",
    "write_json(data, 'users')\n",
    "\n",
    "cnx.close()"
   ]
  },
  {
   "cell_type": "code",
   "execution_count": 23,
   "metadata": {},
   "outputs": [],
   "source": [
    "from mysql.connector import (connection)\n",
    "\n",
    "cnx = connection.MySQLConnection(**config)\n",
    "cursor = cnx.cursor()\n",
    "\n",
    "cursor.execute(\"SELECT * FROM users\")\n",
    "\n",
    "write_json([{\n",
    "        'ID': i[0],\n",
    "        'Email': i[1],\n",
    "        'Name': i[2],\n",
    "        'Surame': i[3],\n",
    "        'Password': i[4],\n",
    "        'Phone_number': i[5]} for i in cursor], 'users')\n",
    "\n",
    "cnx.close()"
   ]
  }
 ],
 "metadata": {
  "kernelspec": {
   "display_name": "Python 3",
   "language": "python",
   "name": "python3"
  },
  "language_info": {
   "codemirror_mode": {
    "name": "ipython",
    "version": 3
   },
   "file_extension": ".py",
   "mimetype": "text/x-python",
   "name": "python",
   "nbconvert_exporter": "python",
   "pygments_lexer": "ipython3",
   "version": "3.8.3"
  }
 },
 "nbformat": 4,
 "nbformat_minor": 4
}
